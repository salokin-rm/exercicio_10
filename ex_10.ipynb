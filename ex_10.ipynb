{
 "cells": [
  {
   "cell_type": "code",
   "execution_count": 11,
   "id": "adfdedb5",
   "metadata": {},
   "outputs": [
    {
     "name": "stdout",
     "output_type": "stream",
     "text": [
      "\n",
      "Qual o valor inicial do capital?345.67\n",
      "\n",
      "Qual o prazo do investimento (em dias)?200\n",
      "\n",
      "Qual a taxa de juros (% a.a.)?15.67\n",
      "\n",
      "Capital inicial: R$ 345.67 .\n",
      "\n",
      "Prazo do investimento: 200.0 dia(s).\n",
      "\n",
      "Taxa de juros: 15.67 % a.a.\n",
      "\n",
      "Retorno bruto: R$ 29.68 .\n",
      "\n",
      "Capital final: RS$ 375.35 .\n"
     ]
    }
   ],
   "source": [
    "\"\"\"\n",
    "Nome: Equação de 2º Grau\n",
    "Descrição: Solicita o valor de um capital, o prazo de investimento, a taxa de juros, calcula e imprime na tela o valor capitalizado.\n",
    "Autor: Nikolas\n",
    "Versão: 0.0.1\n",
    "Data: 27/06/2023\n",
    "\n",
    "\"\"\"\n",
    "\n",
    "#Atribuição de Variáveis\n",
    "\n",
    "\"\"\"\n",
    "Ci   -> Capital Inicial\n",
    "Cf   -> Capital Final\n",
    "P    -> Prazo em dias\n",
    "J    -> Juros anuais\n",
    "Jdia -> Juros diários\n",
    "R    -> Retorno Bruto\n",
    "\n",
    "\"\"\"\n",
    "\n",
    "\n",
    "#Entrada de Dados\n",
    "\n",
    "\n",
    "Ci = float(input(\"\\nQual o valor inicial do capital?\"))\n",
    "P  = float(input(\"\\nQual o prazo do investimento (em dias)?\"))\n",
    "J  = float(input(\"\\nQual a taxa de juros (% a.a.)?\"))\n",
    "\n",
    "\n",
    "\n",
    "#Processamento de Dados\n",
    "                 \n",
    "\n",
    "    \n",
    "    \n",
    "Jdia = (J/100)/365\n",
    "R = Ci*Jdia*P\n",
    "Cf = Ci + Ci*Jdia*P                 \n",
    "\n",
    "                 \n",
    "#Saída de Dados\n",
    "                \n",
    "print(\"\\nCapital inicial: R$\",Ci,\".\")\n",
    "print(\"\\nPrazo do investimento:\",P,\"dia(s).\")\n",
    "print(\"\\nTaxa de juros:\",J,\"% a.a.\")\n",
    "print(\"\\nRetorno bruto: R$\",round(R,2),\".\")\n",
    "print(\"\\nCapital final: RS$\",round(Cf,2),\".\")\n"
   ]
  },
  {
   "cell_type": "code",
   "execution_count": null,
   "id": "83379245",
   "metadata": {},
   "outputs": [],
   "source": []
  }
 ],
 "metadata": {
  "kernelspec": {
   "display_name": "Python 3 (ipykernel)",
   "language": "python",
   "name": "python3"
  },
  "language_info": {
   "codemirror_mode": {
    "name": "ipython",
    "version": 3
   },
   "file_extension": ".py",
   "mimetype": "text/x-python",
   "name": "python",
   "nbconvert_exporter": "python",
   "pygments_lexer": "ipython3",
   "version": "3.10.9"
  }
 },
 "nbformat": 4,
 "nbformat_minor": 5
}
